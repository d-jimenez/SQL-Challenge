{
 "cells": [
  {
   "cell_type": "code",
   "execution_count": 15,
   "metadata": {},
   "outputs": [],
   "source": [
    "# Python SQL toolkit and Object Relational Mapper\n",
    "import sqlalchemy\n",
    "from sqlalchemy.ext.automap import automap_base\n",
    "from sqlalchemy.orm import Session\n",
    "from sqlalchemy import create_engine, inspect\n",
    "import os"
   ]
  },
  {
   "cell_type": "code",
   "execution_count": 16,
   "metadata": {},
   "outputs": [],
   "source": [
    "# Import Matplot lib\n",
    "import matplotlib\n",
    "from matplotlib import style\n",
    "style.use('seaborn')\n",
    "import matplotlib.pyplot as plt"
   ]
  },
  {
   "cell_type": "code",
   "execution_count": 18,
   "metadata": {},
   "outputs": [],
   "source": [
    "# Import ppostgres username and password - DO NOT PUSH TO GitHub\n",
    "from userpass_key import userpass"
   ]
  },
  {
   "cell_type": "code",
   "execution_count": 19,
   "metadata": {},
   "outputs": [],
   "source": [
    "# Create engine using the HPEmployeed DataBase from PostgresSQL\n",
    "engine = create_engine(f'postgresql://{userpass}@localhost:5432/HPEmployees_db')"
   ]
  },
  {
   "cell_type": "code",
   "execution_count": 20,
   "metadata": {},
   "outputs": [
    {
     "data": {
      "text/plain": [
       "['title', 'employees', 'salaries', 'dept_emp', 'departments', 'dept_manager']"
      ]
     },
     "execution_count": 20,
     "metadata": {},
     "output_type": "execute_result"
    }
   ],
   "source": [
    "# Use the Inspector to explore the database and print the table names\n",
    "# YOUR CODE HERE\n",
    "\n",
    "inspector=inspect(engine)\n",
    "\n",
    "inspector.get_table_names()"
   ]
  },
  {
   "cell_type": "code",
   "execution_count": 27,
   "metadata": {},
   "outputs": [
    {
     "name": "stdout",
     "output_type": "stream",
     "text": [
      " emp_no - VARCHAR\n",
      " salary - INTEGER\n"
     ]
    }
   ],
   "source": [
    "# Use Inspector to print the column names and types for Salaries Table\n",
    "\n",
    "columns=inspector.get_columns('salaries')\n",
    "# columns\n",
    "for each_column in columns:\n",
    "    print(f\" {each_column['name']} - {each_column['type']}\")"
   ]
  },
  {
   "cell_type": "code",
   "execution_count": 29,
   "metadata": {},
   "outputs": [
    {
     "name": "stdout",
     "output_type": "stream",
     "text": [
      " title_id - VARCHAR\n",
      " title - VARCHAR\n"
     ]
    }
   ],
   "source": [
    "# Use Inspector to print the column names and types for Title Table\n",
    "\n",
    "columns=inspector.get_columns('title')\n",
    "# columns\n",
    "for each_column in columns:\n",
    "    print(f\" {each_column['name']} - {each_column['type']}\")"
   ]
  },
  {
   "cell_type": "code",
   "execution_count": 30,
   "metadata": {},
   "outputs": [
    {
     "name": "stdout",
     "output_type": "stream",
     "text": [
      " emp_no - VARCHAR\n",
      " emp_title_id - VARCHAR\n",
      " birth_date - DATE\n",
      " first_name - VARCHAR\n",
      " last_name - VARCHAR\n",
      " sex - VARCHAR\n",
      " hire_date - DATE\n"
     ]
    }
   ],
   "source": [
    "# Use Inspector to print the column names and types for Employees Table\n",
    "\n",
    "columns=inspector.get_columns('employees')\n",
    "# columns\n",
    "for each_column in columns:\n",
    "    print(f\" {each_column['name']} - {each_column['type']}\")"
   ]
  },
  {
   "cell_type": "code",
   "execution_count": 23,
   "metadata": {},
   "outputs": [],
   "source": [
    "# Reflect Database into ORM class\n",
    "Base = automap_base()\n",
    "Base.prepare(engine, reflect=True)\n",
    "Salaries = Base.classes.salaries\n",
    "Titles = Base.classes.title"
   ]
  },
  {
   "cell_type": "code",
   "execution_count": 24,
   "metadata": {},
   "outputs": [],
   "source": [
    "# Start a session to query the database\n",
    "session = Session(engine)"
   ]
  },
  {
   "cell_type": "code",
   "execution_count": null,
   "metadata": {},
   "outputs": [],
   "source": [
    "emp_sal=session.query(Salaries).all()\n",
    "emp_sal"
   ]
  }
 ],
 "metadata": {
  "kernelspec": {
   "display_name": "Python 3",
   "language": "python",
   "name": "python3"
  },
  "language_info": {
   "codemirror_mode": {
    "name": "ipython",
    "version": 3
   },
   "file_extension": ".py",
   "mimetype": "text/x-python",
   "name": "python",
   "nbconvert_exporter": "python",
   "pygments_lexer": "ipython3",
   "version": "3.8.5"
  }
 },
 "nbformat": 4,
 "nbformat_minor": 4
}
